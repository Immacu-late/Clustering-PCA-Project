{
 "cells": [
  {
   "cell_type": "markdown",
   "id": "3b1dd867-29c8-4fd7-a389-add9dca3e5a4",
   "metadata": {},
   "source": [
    "# "
   ]
  },
  {
   "cell_type": "markdown",
   "id": "82e8f139-24e8-40e6-bf3f-9b07d69aaf23",
   "metadata": {},
   "source": [
    "# Introduction\n",
    "This project aims to analyze transactional data to answer key business questions related to customer segmentation and revenue optimization. By leveraging unsupervised learning techniques (clustering), we aim to identify distinct groups of customers based on their transaction behaviors, revenue contributions, and geographical regions. This segmentation will help guide marketing strategies, optimize revenue streams, and potentially identify areas for cost reduction."
   ]
  },
  {
   "cell_type": "markdown",
   "id": "fe475aca-efc7-43b9-8bee-f85fb6e21058",
   "metadata": {},
   "source": [
    "# Data Wrangling"
   ]
  },
  {
   "cell_type": "markdown",
   "id": "89b9faa7-4025-49e5-8edb-e1b93f8dce2d",
   "metadata": {},
   "source": [
    "In this section, we shall explore and uncover insights from the data. This section will be divided into 4 sub categories;\n",
    "    •Importing libraries \n",
    "    • Data Loading\n",
    "    • Data Exploration to gain an understanding of its structure, size, and content.\n",
    "    • Data Cleaning\n",
    "    • Data Prepocessing"
   ]
  },
  {
   "cell_type": "markdown",
   "id": "13ad9100-2f12-4cdf-b37c-97f7f7e52923",
   "metadata": {},
   "source": [
    "***Import Necessary Libraries***"
   ]
  },
  {
   "cell_type": "code",
   "execution_count": 46,
   "id": "c5d0a3aa-10a8-43ec-8994-66c404905a43",
   "metadata": {},
   "outputs": [],
   "source": [
    "# Import necessary libraries\n",
    "import pandas as pd\n",
    "import numpy as np\n",
    "from sklearn.preprocessing import StandardScaler, LabelEncoder\n",
    "from sklearn.impute import SimpleImputer\n",
    "import matplotlib.pyplot as plt\n",
    "import seaborn as sns\n",
    "import datetime as dt \n",
    "from sklearn.model_selection import train_test_split\n",
    "from sklearn.preprocessing import StandardScaler\n",
    "from sklearn.decomposition import PCA\n",
    "from sklearn.ensemble import RandomForestRegressor\n",
    "from sklearn.metrics import mean_squared_error\n",
    "from sklearn.metrics import accuracy_score\n",
    "from sklearn.metrics import mean_absolute_error"
   ]
  },
  {
   "cell_type": "markdown",
   "id": "ac4f288a-9746-4e3a-ab7b-b4385fd27fc1",
   "metadata": {},
   "source": [
    "***Load the dataset***"
   ]
  },
  {
   "cell_type": "code",
   "execution_count": 2,
   "id": "240335b1-89cd-4c85-9fb1-491b03021adf",
   "metadata": {},
   "outputs": [],
   "source": [
    "# Load the dataset\n",
    "df = pd.read_csv(\"C:\\\\Users\\\\immac\\\\OneDrive\\\\Documents\\\\2024\\\\Internship\\\\Fygo Labs Internship\\\\Python Project\\\\Fact Transactions\\\\fct_transactions.csv\")"
   ]
  },
  {
   "cell_type": "code",
   "execution_count": 3,
   "id": "c563f8fa-1aa0-4b00-96b0-220156ed9cd2",
   "metadata": {},
   "outputs": [],
   "source": [
    "# Convert 'transaction_date' to datetime format\n",
    "df['transaction_date'] = pd.to_datetime(df['transaction_date'])"
   ]
  },
  {
   "cell_type": "code",
   "execution_count": 4,
   "id": "954bb0c4-bce8-4b13-9049-76e4517679e7",
   "metadata": {},
   "outputs": [
    {
     "data": {
      "text/html": [
       "<div>\n",
       "<style scoped>\n",
       "    .dataframe tbody tr th:only-of-type {\n",
       "        vertical-align: middle;\n",
       "    }\n",
       "\n",
       "    .dataframe tbody tr th {\n",
       "        vertical-align: top;\n",
       "    }\n",
       "\n",
       "    .dataframe thead th {\n",
       "        text-align: right;\n",
       "    }\n",
       "</style>\n",
       "<table border=\"1\" class=\"dataframe\">\n",
       "  <thead>\n",
       "    <tr style=\"text-align: right;\">\n",
       "      <th></th>\n",
       "      <th>transaction_date</th>\n",
       "      <th>transaction_pseudo_id</th>\n",
       "      <th>transaction_reference</th>\n",
       "      <th>user_id</th>\n",
       "      <th>transaction_action</th>\n",
       "      <th>source_region</th>\n",
       "      <th>source_sub_region</th>\n",
       "      <th>source_country_code</th>\n",
       "      <th>source_country</th>\n",
       "      <th>first_name</th>\n",
       "      <th>...</th>\n",
       "      <th>gross_forex_revenue_in_usd</th>\n",
       "      <th>net_forex_revenue_in_usd</th>\n",
       "      <th>forex_cogs_in_usd</th>\n",
       "      <th>gross_fee_revenue_in_usd</th>\n",
       "      <th>net_fee_revenue_in_usd</th>\n",
       "      <th>partner_fee_cogs_in_usd</th>\n",
       "      <th>discount_cost_in_usd</th>\n",
       "      <th>gross_revenue_in_usd</th>\n",
       "      <th>net_revenue_in_usd</th>\n",
       "      <th>total_cogs_in_usd</th>\n",
       "    </tr>\n",
       "  </thead>\n",
       "  <tbody>\n",
       "    <tr>\n",
       "      <th>0</th>\n",
       "      <td>2024-08-24 15:27:18+00:00</td>\n",
       "      <td>NA18f98223b7c3765d267e802bf3feec62</td>\n",
       "      <td>REG6897992</td>\n",
       "      <td>1311987</td>\n",
       "      <td>Wallet Topup</td>\n",
       "      <td>Americas</td>\n",
       "      <td>Northern America</td>\n",
       "      <td>US</td>\n",
       "      <td>United States</td>\n",
       "      <td>Nabeela</td>\n",
       "      <td>...</td>\n",
       "      <td>0.0</td>\n",
       "      <td>0.0</td>\n",
       "      <td>0.0</td>\n",
       "      <td>0.350182</td>\n",
       "      <td>0.0</td>\n",
       "      <td>0.145156</td>\n",
       "      <td>0.0</td>\n",
       "      <td>0.350182</td>\n",
       "      <td>0.205027</td>\n",
       "      <td>0.145156</td>\n",
       "    </tr>\n",
       "    <tr>\n",
       "      <th>1</th>\n",
       "      <td>2024-08-24 08:19:36+00:00</td>\n",
       "      <td>NA8fad3394c82d6f06c0bc99b9e340e606</td>\n",
       "      <td>REG6894470</td>\n",
       "      <td>293079</td>\n",
       "      <td>Wallet Topup</td>\n",
       "      <td>Americas</td>\n",
       "      <td>Northern America</td>\n",
       "      <td>US</td>\n",
       "      <td>United States</td>\n",
       "      <td>Joshua</td>\n",
       "      <td>...</td>\n",
       "      <td>0.0</td>\n",
       "      <td>0.0</td>\n",
       "      <td>0.0</td>\n",
       "      <td>0.590000</td>\n",
       "      <td>0.0</td>\n",
       "      <td>0.590000</td>\n",
       "      <td>0.0</td>\n",
       "      <td>0.590000</td>\n",
       "      <td>0.000000</td>\n",
       "      <td>0.590000</td>\n",
       "    </tr>\n",
       "    <tr>\n",
       "      <th>2</th>\n",
       "      <td>2024-08-24 23:44:14+00:00</td>\n",
       "      <td>NA0e160bfe2e504f4a3e82c3c91782b0ce</td>\n",
       "      <td>LINK10521508</td>\n",
       "      <td>2221063</td>\n",
       "      <td>Wallet Topup</td>\n",
       "      <td>Africa</td>\n",
       "      <td>Sub-Saharan Africa</td>\n",
       "      <td>BF</td>\n",
       "      <td>Burkina Faso</td>\n",
       "      <td>Sankara</td>\n",
       "      <td>...</td>\n",
       "      <td>0.0</td>\n",
       "      <td>0.0</td>\n",
       "      <td>0.0</td>\n",
       "      <td>0.034193</td>\n",
       "      <td>0.0</td>\n",
       "      <td>0.034193</td>\n",
       "      <td>0.0</td>\n",
       "      <td>0.034193</td>\n",
       "      <td>0.000000</td>\n",
       "      <td>0.034193</td>\n",
       "    </tr>\n",
       "    <tr>\n",
       "      <th>3</th>\n",
       "      <td>2024-08-24 01:22:29+00:00</td>\n",
       "      <td>NAdec61160fc12d71e0faa13d34e7e0c1d</td>\n",
       "      <td>LINK10504544</td>\n",
       "      <td>2195086</td>\n",
       "      <td>Wallet Topup</td>\n",
       "      <td>Africa</td>\n",
       "      <td>Sub-Saharan Africa</td>\n",
       "      <td>BF</td>\n",
       "      <td>Burkina Faso</td>\n",
       "      <td>Marc</td>\n",
       "      <td>...</td>\n",
       "      <td>0.0</td>\n",
       "      <td>0.0</td>\n",
       "      <td>0.0</td>\n",
       "      <td>0.034236</td>\n",
       "      <td>0.0</td>\n",
       "      <td>0.034236</td>\n",
       "      <td>0.0</td>\n",
       "      <td>0.034236</td>\n",
       "      <td>0.000000</td>\n",
       "      <td>0.034236</td>\n",
       "    </tr>\n",
       "    <tr>\n",
       "      <th>4</th>\n",
       "      <td>2024-08-24 18:03:41+00:00</td>\n",
       "      <td>NAd72185fcaf3713010df0637e8f3718c1</td>\n",
       "      <td>LINK10517281</td>\n",
       "      <td>2229124</td>\n",
       "      <td>Wallet Topup</td>\n",
       "      <td>Africa</td>\n",
       "      <td>Sub-Saharan Africa</td>\n",
       "      <td>BF</td>\n",
       "      <td>Burkina Faso</td>\n",
       "      <td>Abdoul Razak</td>\n",
       "      <td>...</td>\n",
       "      <td>0.0</td>\n",
       "      <td>0.0</td>\n",
       "      <td>0.0</td>\n",
       "      <td>0.034193</td>\n",
       "      <td>0.0</td>\n",
       "      <td>0.034193</td>\n",
       "      <td>0.0</td>\n",
       "      <td>0.034193</td>\n",
       "      <td>0.000000</td>\n",
       "      <td>0.034193</td>\n",
       "    </tr>\n",
       "  </tbody>\n",
       "</table>\n",
       "<p>5 rows × 35 columns</p>\n",
       "</div>"
      ],
      "text/plain": [
       "           transaction_date               transaction_pseudo_id  \\\n",
       "0 2024-08-24 15:27:18+00:00  NA18f98223b7c3765d267e802bf3feec62   \n",
       "1 2024-08-24 08:19:36+00:00  NA8fad3394c82d6f06c0bc99b9e340e606   \n",
       "2 2024-08-24 23:44:14+00:00  NA0e160bfe2e504f4a3e82c3c91782b0ce   \n",
       "3 2024-08-24 01:22:29+00:00  NAdec61160fc12d71e0faa13d34e7e0c1d   \n",
       "4 2024-08-24 18:03:41+00:00  NAd72185fcaf3713010df0637e8f3718c1   \n",
       "\n",
       "  transaction_reference  user_id transaction_action source_region  \\\n",
       "0            REG6897992  1311987       Wallet Topup      Americas   \n",
       "1            REG6894470   293079       Wallet Topup      Americas   \n",
       "2          LINK10521508  2221063       Wallet Topup        Africa   \n",
       "3          LINK10504544  2195086       Wallet Topup        Africa   \n",
       "4          LINK10517281  2229124       Wallet Topup        Africa   \n",
       "\n",
       "    source_sub_region source_country_code source_country    first_name  ...  \\\n",
       "0    Northern America                  US  United States       Nabeela  ...   \n",
       "1    Northern America                  US  United States        Joshua  ...   \n",
       "2  Sub-Saharan Africa                  BF   Burkina Faso       Sankara  ...   \n",
       "3  Sub-Saharan Africa                  BF   Burkina Faso          Marc  ...   \n",
       "4  Sub-Saharan Africa                  BF   Burkina Faso  Abdoul Razak  ...   \n",
       "\n",
       "  gross_forex_revenue_in_usd  net_forex_revenue_in_usd forex_cogs_in_usd  \\\n",
       "0                        0.0                       0.0               0.0   \n",
       "1                        0.0                       0.0               0.0   \n",
       "2                        0.0                       0.0               0.0   \n",
       "3                        0.0                       0.0               0.0   \n",
       "4                        0.0                       0.0               0.0   \n",
       "\n",
       "  gross_fee_revenue_in_usd net_fee_revenue_in_usd partner_fee_cogs_in_usd  \\\n",
       "0                 0.350182                    0.0                0.145156   \n",
       "1                 0.590000                    0.0                0.590000   \n",
       "2                 0.034193                    0.0                0.034193   \n",
       "3                 0.034236                    0.0                0.034236   \n",
       "4                 0.034193                    0.0                0.034193   \n",
       "\n",
       "  discount_cost_in_usd gross_revenue_in_usd  net_revenue_in_usd  \\\n",
       "0                  0.0             0.350182            0.205027   \n",
       "1                  0.0             0.590000            0.000000   \n",
       "2                  0.0             0.034193            0.000000   \n",
       "3                  0.0             0.034236            0.000000   \n",
       "4                  0.0             0.034193            0.000000   \n",
       "\n",
       "  total_cogs_in_usd  \n",
       "0          0.145156  \n",
       "1          0.590000  \n",
       "2          0.034193  \n",
       "3          0.034236  \n",
       "4          0.034193  \n",
       "\n",
       "[5 rows x 35 columns]"
      ]
     },
     "execution_count": 4,
     "metadata": {},
     "output_type": "execute_result"
    }
   ],
   "source": [
    "# Preview the first few rows\n",
    "df.head()"
   ]
  },
  {
   "cell_type": "markdown",
   "id": "92e041c7-0167-4991-a78f-e986e5e97391",
   "metadata": {},
   "source": [
    "***Basic Data Cleaning and Preprocessing***"
   ]
  },
  {
   "cell_type": "code",
   "execution_count": 5,
   "id": "322660b2-3942-495a-acc1-f1e3ea0f5446",
   "metadata": {},
   "outputs": [
    {
     "name": "stdout",
     "output_type": "stream",
     "text": [
      "(20967, 35)\n"
     ]
    }
   ],
   "source": [
    "# Check the shape of the dataset\n",
    "print(df.shape)"
   ]
  },
  {
   "cell_type": "code",
   "execution_count": 6,
   "id": "66c8b980-fb90-441b-9c7e-9cfb620ee4c4",
   "metadata": {},
   "outputs": [
    {
     "name": "stdout",
     "output_type": "stream",
     "text": [
      "<class 'pandas.core.frame.DataFrame'>\n",
      "RangeIndex: 20967 entries, 0 to 20966\n",
      "Data columns (total 35 columns):\n",
      " #   Column                              Non-Null Count  Dtype              \n",
      "---  ------                              --------------  -----              \n",
      " 0   transaction_date                    20967 non-null  datetime64[ns, UTC]\n",
      " 1   transaction_pseudo_id               20967 non-null  object             \n",
      " 2   transaction_reference               20967 non-null  object             \n",
      " 3   user_id                             20967 non-null  int64              \n",
      " 4   transaction_action                  20967 non-null  object             \n",
      " 5   source_region                       20967 non-null  object             \n",
      " 6   source_sub_region                   20967 non-null  object             \n",
      " 7   source_country_code                 20963 non-null  object             \n",
      " 8   source_country                      20967 non-null  object             \n",
      " 9   first_name                          20967 non-null  object             \n",
      " 10  email                               20967 non-null  object             \n",
      " 11  phone_number                        20962 non-null  float64            \n",
      " 12  acquisition_date                    20967 non-null  object             \n",
      " 13  user_type                           20676 non-null  object             \n",
      " 14  acquisition_source                  20967 non-null  object             \n",
      " 15  first_os                            20967 non-null  object             \n",
      " 16  last_os                             20967 non-null  object             \n",
      " 17  cohort_period                       20967 non-null  object             \n",
      " 18  transaction_acquisition_month_diff  20967 non-null  int64              \n",
      " 19  source_currency                     20967 non-null  object             \n",
      " 20  destination_currency                12333 non-null  object             \n",
      " 21  currency_flow                       12333 non-null  object             \n",
      " 22  transaction_currency_class          20967 non-null  object             \n",
      " 23  source_amount_in_src_curr           20967 non-null  float64            \n",
      " 24  source_amount_in_usd                20967 non-null  float64            \n",
      " 25  gross_forex_revenue_in_usd          20967 non-null  float64            \n",
      " 26  net_forex_revenue_in_usd            20967 non-null  float64            \n",
      " 27  forex_cogs_in_usd                   20967 non-null  float64            \n",
      " 28  gross_fee_revenue_in_usd            20967 non-null  float64            \n",
      " 29  net_fee_revenue_in_usd              20967 non-null  float64            \n",
      " 30  partner_fee_cogs_in_usd             20967 non-null  float64            \n",
      " 31  discount_cost_in_usd                20967 non-null  float64            \n",
      " 32  gross_revenue_in_usd                20967 non-null  float64            \n",
      " 33  net_revenue_in_usd                  20967 non-null  float64            \n",
      " 34  total_cogs_in_usd                   20967 non-null  float64            \n",
      "dtypes: datetime64[ns, UTC](1), float64(13), int64(2), object(19)\n",
      "memory usage: 5.6+ MB\n",
      "None\n"
     ]
    }
   ],
   "source": [
    "# Check the info of the dataset\n",
    "print(df.info())"
   ]
  },
  {
   "cell_type": "markdown",
   "id": "554ff605-9a16-4171-a4cb-3f11a2ba1721",
   "metadata": {},
   "source": [
    "***Handling Missing Values***"
   ]
  },
  {
   "cell_type": "code",
   "execution_count": 7,
   "id": "df92eb45-9ece-46d5-9caf-7a2aaa9bcc0c",
   "metadata": {},
   "outputs": [
    {
     "data": {
      "text/plain": [
       "transaction_date                         0\n",
       "transaction_pseudo_id                    0\n",
       "transaction_reference                    0\n",
       "user_id                                  0\n",
       "transaction_action                       0\n",
       "source_region                            0\n",
       "source_sub_region                        0\n",
       "source_country_code                      4\n",
       "source_country                           0\n",
       "first_name                               0\n",
       "email                                    0\n",
       "phone_number                             5\n",
       "acquisition_date                         0\n",
       "user_type                              291\n",
       "acquisition_source                       0\n",
       "first_os                                 0\n",
       "last_os                                  0\n",
       "cohort_period                            0\n",
       "transaction_acquisition_month_diff       0\n",
       "source_currency                          0\n",
       "destination_currency                  8634\n",
       "currency_flow                         8634\n",
       "transaction_currency_class               0\n",
       "source_amount_in_src_curr                0\n",
       "source_amount_in_usd                     0\n",
       "gross_forex_revenue_in_usd               0\n",
       "net_forex_revenue_in_usd                 0\n",
       "forex_cogs_in_usd                        0\n",
       "gross_fee_revenue_in_usd                 0\n",
       "net_fee_revenue_in_usd                   0\n",
       "partner_fee_cogs_in_usd                  0\n",
       "discount_cost_in_usd                     0\n",
       "gross_revenue_in_usd                     0\n",
       "net_revenue_in_usd                       0\n",
       "total_cogs_in_usd                        0\n",
       "dtype: int64"
      ]
     },
     "execution_count": 7,
     "metadata": {},
     "output_type": "execute_result"
    }
   ],
   "source": [
    "df.isnull().sum()"
   ]
  },
  {
   "cell_type": "code",
   "execution_count": 8,
   "id": "155f7bd8-94a5-4217-bcd2-5b09e5537b46",
   "metadata": {},
   "outputs": [],
   "source": [
    "# Impute missing values with median for numerical columns and mode for categorical columns\n",
    "numeric_cols = df.select_dtypes(include=[np.number]).columns\n",
    "categorical_cols = df.select_dtypes(exclude=[np.number]).columns\n",
    "\n",
    "# Imputing missing numerical values with median\n",
    "imputer_num = SimpleImputer(strategy='median')\n",
    "df[numeric_cols] = imputer_num.fit_transform(df[numeric_cols])\n",
    "\n",
    "# Imputing missing categorical values with most frequent (mode)\n",
    "imputer_cat = SimpleImputer(strategy='most_frequent')\n",
    "df[categorical_cols] = imputer_cat.fit_transform(df[categorical_cols])"
   ]
  },
  {
   "cell_type": "code",
   "execution_count": 9,
   "id": "a76d0f9f-3322-4eb0-b07d-52df1bf280f6",
   "metadata": {},
   "outputs": [
    {
     "data": {
      "text/plain": [
       "transaction_date                      0\n",
       "transaction_pseudo_id                 0\n",
       "transaction_reference                 0\n",
       "user_id                               0\n",
       "transaction_action                    0\n",
       "source_region                         0\n",
       "source_sub_region                     0\n",
       "source_country_code                   0\n",
       "source_country                        0\n",
       "first_name                            0\n",
       "email                                 0\n",
       "phone_number                          0\n",
       "acquisition_date                      0\n",
       "user_type                             0\n",
       "acquisition_source                    0\n",
       "first_os                              0\n",
       "last_os                               0\n",
       "cohort_period                         0\n",
       "transaction_acquisition_month_diff    0\n",
       "source_currency                       0\n",
       "destination_currency                  0\n",
       "currency_flow                         0\n",
       "transaction_currency_class            0\n",
       "source_amount_in_src_curr             0\n",
       "source_amount_in_usd                  0\n",
       "gross_forex_revenue_in_usd            0\n",
       "net_forex_revenue_in_usd              0\n",
       "forex_cogs_in_usd                     0\n",
       "gross_fee_revenue_in_usd              0\n",
       "net_fee_revenue_in_usd                0\n",
       "partner_fee_cogs_in_usd               0\n",
       "discount_cost_in_usd                  0\n",
       "gross_revenue_in_usd                  0\n",
       "net_revenue_in_usd                    0\n",
       "total_cogs_in_usd                     0\n",
       "dtype: int64"
      ]
     },
     "execution_count": 9,
     "metadata": {},
     "output_type": "execute_result"
    }
   ],
   "source": [
    "# Check that missing values are worked on\n",
    "df.isnull().sum()"
   ]
  },
  {
   "cell_type": "code",
   "execution_count": 10,
   "id": "8a506abc-69e0-4a20-a62f-2c2ea21c3914",
   "metadata": {},
   "outputs": [],
   "source": [
    "# Drop columns that are not needed or non-numeric for PCA\n",
    "df_numeric = df.select_dtypes(include=['float64', 'int64'])"
   ]
  },
  {
   "cell_type": "code",
   "execution_count": 11,
   "id": "f6ccccb7-d69f-448e-b78c-6b7da25bd9cf",
   "metadata": {},
   "outputs": [
    {
     "name": "stdout",
     "output_type": "stream",
     "text": [
      "<class 'pandas.core.frame.DataFrame'>\n",
      "RangeIndex: 20967 entries, 0 to 20966\n",
      "Data columns (total 15 columns):\n",
      " #   Column                              Non-Null Count  Dtype  \n",
      "---  ------                              --------------  -----  \n",
      " 0   user_id                             20967 non-null  float64\n",
      " 1   phone_number                        20967 non-null  float64\n",
      " 2   transaction_acquisition_month_diff  20967 non-null  float64\n",
      " 3   source_amount_in_src_curr           20967 non-null  float64\n",
      " 4   source_amount_in_usd                20967 non-null  float64\n",
      " 5   gross_forex_revenue_in_usd          20967 non-null  float64\n",
      " 6   net_forex_revenue_in_usd            20967 non-null  float64\n",
      " 7   forex_cogs_in_usd                   20967 non-null  float64\n",
      " 8   gross_fee_revenue_in_usd            20967 non-null  float64\n",
      " 9   net_fee_revenue_in_usd              20967 non-null  float64\n",
      " 10  partner_fee_cogs_in_usd             20967 non-null  float64\n",
      " 11  discount_cost_in_usd                20967 non-null  float64\n",
      " 12  gross_revenue_in_usd                20967 non-null  float64\n",
      " 13  net_revenue_in_usd                  20967 non-null  float64\n",
      " 14  total_cogs_in_usd                   20967 non-null  float64\n",
      "dtypes: float64(15)\n",
      "memory usage: 2.4 MB\n",
      "None\n"
     ]
    }
   ],
   "source": [
    "print(df_numeric.info())"
   ]
  },
  {
   "cell_type": "markdown",
   "id": "ca0bf77c-62e5-4525-9650-28808109631b",
   "metadata": {},
   "source": [
    "**Model Building of original data**"
   ]
  },
  {
   "cell_type": "code",
   "execution_count": 12,
   "id": "2763ea59-1245-496f-a734-58066dd782cd",
   "metadata": {},
   "outputs": [],
   "source": [
    "# Separate features and target variable (assuming we are predicting `net_revenue_in_usd` as an example)\n",
    "X = df_numeric.drop(columns=['net_revenue_in_usd'])\n",
    "y = df_numeric['net_revenue_in_usd']"
   ]
  },
  {
   "cell_type": "code",
   "execution_count": 13,
   "id": "4951d916-6ded-435d-89b5-fbdf04e88b90",
   "metadata": {},
   "outputs": [],
   "source": [
    "# Train-test split\n",
    "X_train, X_test, y_train, y_test = train_test_split(X, y, test_size=0.2, random_state=42)"
   ]
  },
  {
   "cell_type": "code",
   "execution_count": 16,
   "id": "4dd0599a-dec4-44e5-b9f8-b5e8def71078",
   "metadata": {},
   "outputs": [],
   "source": [
    "# Standardize the data\n",
    "scaler = StandardScaler()\n",
    "X_train_scaled = scaler.fit_transform(X_train)\n",
    "X_test_scaled = scaler.transform(X_test)"
   ]
  },
  {
   "cell_type": "markdown",
   "id": "7d03f6b4-23c7-4fe1-8ccd-c967793db833",
   "metadata": {},
   "source": [
    "**Train Random Forest on Original Dataset**"
   ]
  },
  {
   "cell_type": "code",
   "execution_count": 48,
   "id": "9dd1eacc-e432-4862-9bcd-4b2c7c937989",
   "metadata": {},
   "outputs": [
    {
     "name": "stdout",
     "output_type": "stream",
     "text": [
      "MSE on original data: 0.0783809662895807\n"
     ]
    }
   ],
   "source": [
    "# Train a Random Forest Regressor on the original data\n",
    "rf_original = RandomForestRegressor(random_state=42)\n",
    "rf_original.fit(X_train_scaled, y_train)\n",
    "\n",
    "# Predict on test data\n",
    "y_pred_original = rf_original.predict(X_test_scaled)\n",
    "\n",
    "# Evaluate the model using Mean Squared Error\n",
    "mse_original = mean_squared_error(y_test, y_pred_original)\n",
    "print(f\"MSE on original data: {mse_original}\")\n"
   ]
  },
  {
   "cell_type": "markdown",
   "id": "decb02a6-d48f-4f78-ae20-53c8180e5a59",
   "metadata": {},
   "source": [
    "### PCA "
   ]
  },
  {
   "cell_type": "code",
   "execution_count": 21,
   "id": "76074ff8-ed6e-40a8-94e3-d2f987a520aa",
   "metadata": {},
   "outputs": [
    {
     "data": {
      "text/html": [
       "        <script type=\"text/javascript\">\n",
       "        window.PlotlyConfig = {MathJaxConfig: 'local'};\n",
       "        if (window.MathJax && window.MathJax.Hub && window.MathJax.Hub.Config) {window.MathJax.Hub.Config({SVG: {font: \"STIX-Web\"}});}\n",
       "        if (typeof require !== 'undefined') {\n",
       "        require.undef(\"plotly\");\n",
       "        requirejs.config({\n",
       "            paths: {\n",
       "                'plotly': ['https://cdn.plot.ly/plotly-2.32.0.min']\n",
       "            }\n",
       "        });\n",
       "        require(['plotly'], function(Plotly) {\n",
       "            window._Plotly = Plotly;\n",
       "        });\n",
       "        }\n",
       "        </script>\n",
       "        "
      ]
     },
     "metadata": {},
     "output_type": "display_data"
    }
   ],
   "source": [
    "import numpy as np\n",
    "import pandas as pd\n",
    "from sklearn import preprocessing\n",
    "from sklearn.decomposition import PCA\n",
    "from sklearn.model_selection import train_test_split\n",
    "\n",
    "from sklearn.ensemble import RandomForestRegressor\n",
    "\n",
    "import matplotlib.pyplot as plt\n",
    "import seaborn as sns\n",
    "%matplotlib inline\n",
    "\n",
    "sns.set_theme(style='whitegrid', palette='muted',\n",
    "        rc={'figure.figsize': (15,10)})\n",
    "\n",
    "from plotly.offline import download_plotlyjs, init_notebook_mode, plot, iplot\n",
    "init_notebook_mode(connected=True)"
   ]
  },
  {
   "cell_type": "markdown",
   "id": "ac3998c1-9a59-48ba-8c42-2c26396ba2b6",
   "metadata": {},
   "source": [
    "**Feature Selection**"
   ]
  },
  {
   "cell_type": "code",
   "execution_count": 23,
   "id": "2bbc4390-e9b7-4a13-bfd4-fc2f58e5c5f1",
   "metadata": {},
   "outputs": [],
   "source": [
    "# create short list of unwanted columns\n",
    "labels = ['UserId',]\n",
    "\n",
    "# declare the features to be all columns, less the unwanted ones from above\n",
    "features = [col for col in df_numeric.columns if col not in labels]"
   ]
  },
  {
   "cell_type": "markdown",
   "id": "ccb7388e-b05c-451b-95b7-28c4d9fcb3bf",
   "metadata": {},
   "source": [
    "**Standardising numerical data**"
   ]
  },
  {
   "cell_type": "code",
   "execution_count": 29,
   "id": "3a537790-4096-4ade-a480-ba162dd207a3",
   "metadata": {},
   "outputs": [],
   "source": [
    "# Initialize the scaler\n",
    "scaler = StandardScaler()\n",
    "\n",
    "# Fit and transform the numeric columns in df_numeric\n",
    "df_PCA = df_numeric.copy()  # To avoid modifying the original dataframe\n",
    "df_PCA[:] = scaler.fit_transform(df_PCA)"
   ]
  },
  {
   "cell_type": "code",
   "execution_count": 30,
   "id": "5a36d438-43a6-4e49-b97f-92343a639ae8",
   "metadata": {},
   "outputs": [
    {
     "name": "stdout",
     "output_type": "stream",
     "text": [
      "    user_id  phone_number  transaction_acquisition_month_diff  \\\n",
      "0 -0.551191     -0.859638                            0.407596   \n",
      "1 -2.250550     -0.857158                            1.978795   \n",
      "2  0.964988     -0.850555                           -0.927923   \n",
      "3  0.921663     -0.850548                           -0.927923   \n",
      "4  0.978433     -0.850545                           -0.927923   \n",
      "\n",
      "   source_amount_in_src_curr  source_amount_in_usd  \\\n",
      "0                  -0.069703             -0.095651   \n",
      "1                  -0.069675             -0.005679   \n",
      "2                  -0.068353             -0.177164   \n",
      "3                  -0.068353             -0.177154   \n",
      "4                  -0.068353             -0.177164   \n",
      "\n",
      "   gross_forex_revenue_in_usd  net_forex_revenue_in_usd  forex_cogs_in_usd  \\\n",
      "0                   -0.201065                 -0.096198          -0.085369   \n",
      "1                   -0.201065                 -0.096198          -0.085369   \n",
      "2                   -0.201065                 -0.096198          -0.085369   \n",
      "3                   -0.201065                 -0.096198          -0.085369   \n",
      "4                   -0.201065                 -0.096198          -0.085369   \n",
      "\n",
      "   gross_fee_revenue_in_usd  net_fee_revenue_in_usd  partner_fee_cogs_in_usd  \\\n",
      "0                  0.408712                0.040491                 0.055822   \n",
      "1                  0.826398                0.040491                 0.854494   \n",
      "2                 -0.141639                0.040491                -0.143399   \n",
      "3                 -0.141564                0.040491                -0.143321   \n",
      "4                 -0.141639                0.040491                -0.143399   \n",
      "\n",
      "   discount_cost_in_usd  gross_revenue_in_usd  net_revenue_in_usd  \\\n",
      "0             -0.126112             -0.062925           -0.007953   \n",
      "1             -0.126112              0.069387           -0.096643   \n",
      "2             -0.126112             -0.237262           -0.096643   \n",
      "3             -0.126112             -0.237238           -0.096643   \n",
      "4             -0.126112             -0.237262           -0.096643   \n",
      "\n",
      "   total_cogs_in_usd  \n",
      "0          -0.060638  \n",
      "1           0.221327  \n",
      "2          -0.130972  \n",
      "3          -0.130945  \n",
      "4          -0.130972  \n"
     ]
    }
   ],
   "source": [
    "print(df_PCA.head())"
   ]
  },
  {
   "cell_type": "markdown",
   "id": "6700a26c-ebfd-4eda-ae00-e09864716d3e",
   "metadata": {},
   "source": [
    "**Boxplot for the scaled data**"
   ]
  },
  {
   "cell_type": "code",
   "execution_count": 33,
   "id": "721aee49-e2bd-4ae4-86f7-5138c11e83de",
   "metadata": {},
   "outputs": [
    {
     "data": {
      "image/png": "[encoded data removed]",
      "text/plain": [
       "<Figure size 1000x600 with 1 Axes>"
      ]
     },
     "metadata": {},
     "output_type": "display_data"
    }
   ],
   "source": [
    "# Plot the boxplot for the scaled data\n",
    "plt.figure(figsize=(10, 6))\n",
    "df_PCA[:].boxplot()\n",
    "plt.xticks(rotation=45)\n",
    "plt.title(\"Boxplot of Scaled Data\")\n",
    "plt.show()"
   ]
  },
  {
   "cell_type": "markdown",
   "id": "fd7e3e84-93b6-4934-af9e-a5357d403569",
   "metadata": {},
   "source": [
    "**Perform PCA**"
   ]
  },
  {
   "cell_type": "code",
   "execution_count": 35,
   "id": "3ade24f0-465f-4e1f-9ce7-f144ac125c65",
   "metadata": {},
   "outputs": [],
   "source": [
    "pca = PCA()\n",
    "principal_components = pca.fit_transform(df_PCA)\n",
    "\n",
    "# Create a DataFrame with the principal components\n",
    "pca_df = pd.DataFrame(data=principal_components)"
   ]
  },
  {
   "cell_type": "markdown",
   "id": "541b1f6c-950f-40b2-a278-39014cdb0afe",
   "metadata": {},
   "source": [
    "**Visualize the Cumulative Explained Variance**"
   ]
  },
  {
   "cell_type": "code",
   "execution_count": 36,
   "id": "b67ce7fb-efeb-4e96-99fe-c0c3e0229824",
   "metadata": {},
   "outputs": [
    {
     "data": {
      "image/png": "[encoded data removed]",
      "text/plain": [
       "<Figure size 800x600 with 1 Axes>"
      ]
     },
     "metadata": {},
     "output_type": "display_data"
    }
   ],
   "source": [
    "# Plot the cumulative variance explained by the components\n",
    "plt.figure(figsize=(8, 6))\n",
    "plt.plot(np.cumsum(pca.explained_variance_ratio_))\n",
    "plt.xlabel('Number of Components')\n",
    "plt.ylabel('Cumulative Explained Variance')\n",
    "plt.title('Explained Variance by PCA Components')\n",
    "plt.grid(True)\n",
    "plt.show()\n"
   ]
  },
  {
   "cell_type": "markdown",
   "id": "38235843-c6ae-4ffe-9ddd-fdfbcd5c6648",
   "metadata": {},
   "source": [
    "6 components could explain 85% of the data"
   ]
  },
  {
   "cell_type": "markdown",
   "id": "0f22480a-d838-4c4e-b3e7-f112b1eece30",
   "metadata": {},
   "source": [
    "**Decide How Many Components to Keep**"
   ]
  },
  {
   "cell_type": "code",
   "execution_count": 38,
   "id": "f491a5ca-d592-4fca-b3c0-9bef7986ddb0",
   "metadata": {},
   "outputs": [
    {
     "name": "stdout",
     "output_type": "stream",
     "text": [
      "85.4 % of variance explained by 6 components.\n"
     ]
    }
   ],
   "source": [
    "# Let's check what the actual number of components would be for 90% variance retention.\n",
    "pca_85 = PCA(.85)\n",
    "pca_85.fit_transform(df_PCA)\n",
    "print(round(pca_85.explained_variance_ratio_.sum()*100, 1),\n",
    "      \"% of variance explained by\",\n",
    "      pca_85.n_components_,\n",
    "      \"components.\")"
   ]
  },
  {
   "cell_type": "markdown",
   "id": "65ec5b6c-1af9-4b5e-99c4-f3c880f2b227",
   "metadata": {},
   "source": [
    "**Analyzing the variance**"
   ]
  },
  {
   "cell_type": "code",
   "execution_count": 40,
   "id": "4becd761-55be-4957-a225-48ee8252df61",
   "metadata": {},
   "outputs": [
    {
     "data": {
      "text/plain": [
       "array([0.26928692, 0.18012047, 0.13638576])"
      ]
     },
     "execution_count": 40,
     "metadata": {},
     "output_type": "execute_result"
    }
   ],
   "source": [
    "pca.explained_variance_ratio_[:3]"
   ]
  },
  {
   "cell_type": "markdown",
   "id": "0d5c6c16-03bd-447f-8d96-86368df12e6b",
   "metadata": {},
   "source": [
    "**Apply PCA**"
   ]
  },
  {
   "cell_type": "code",
   "execution_count": 41,
   "id": "3d350bea-88fd-479f-85a7-1ea97146b034",
   "metadata": {},
   "outputs": [
    {
     "name": "stdout",
     "output_type": "stream",
     "text": [
      "Explained Variance by each component: [0.21902357 0.19189336 0.14578203 0.12458643 0.08840075 0.07235239\n",
      " 0.06747965]\n"
     ]
    }
   ],
   "source": [
    "# Initialize PCA, keeping 85% of the variance\n",
    "pca = PCA(n_components=0.85)\n",
    "\n",
    "# Fit PCA on the scaled training data\n",
    "X_train_pca = pca.fit_transform(X_train_scaled)\n",
    "X_test_pca = pca.transform(X_test_scaled)\n",
    "\n",
    "# Check how much variance is explained by each principal component\n",
    "explained_variance = pca.explained_variance_ratio_\n",
    "print(f\"Explained Variance by each component: {explained_variance}\")\n"
   ]
  },
  {
   "cell_type": "markdown",
   "id": "6fb93d1f-2f33-4d7e-8454-d04daa3f14b2",
   "metadata": {},
   "source": [
    "**Train Random Forest on PCA-Reduced Dataset**"
   ]
  },
  {
   "cell_type": "code",
   "execution_count": 43,
   "id": "440b0bff-b9af-4738-9de6-2c94d52fe9bc",
   "metadata": {},
   "outputs": [
    {
     "name": "stdout",
     "output_type": "stream",
     "text": [
      "Mean Squared Error on PCA-reduced data: 0.06644403423226097\n"
     ]
    }
   ],
   "source": [
    "# Initialize the Random Forest Regressor\n",
    "rf_pca = RandomForestRegressor(random_state=42)\n",
    "\n",
    "# Train the model on the PCA-reduced training data\n",
    "rf_pca.fit(X_train_pca, y_train)\n",
    "\n",
    "# Predict on the PCA-transformed test data\n",
    "y_pred_pca = rf_pca.predict(X_test_pca)\n",
    "\n",
    "# Evaluate the model's performance (e.g., using Mean Squared Error)\n",
    "mse_pca = mean_squared_error(y_test, y_pred_pca)\n",
    "print(f\"Mean Squared Error on PCA-reduced data: {mse_pca}\")\n"
   ]
  },
  {
   "cell_type": "markdown",
   "id": "a9b2bfea-ca24-4595-8ab9-90b8d07b605e",
   "metadata": {},
   "source": [
    "**Compare Results**"
   ]
  },
  {
   "cell_type": "code",
   "execution_count": 49,
   "id": "24839285-0f08-4353-bced-f44fb687141a",
   "metadata": {},
   "outputs": [
    {
     "name": "stdout",
     "output_type": "stream",
     "text": [
      "MAE on original data: 0.011685155229332252\n",
      "MAE on PCA-reduced data: 0.024189134681823123\n",
      "Original Dataset: Predicts target variable to within 116.9% of its value.\n",
      "PCA-Reduced Dataset: Predicts target variable to within 241.9% of its value.\n"
     ]
    }
   ],
   "source": [
    "# Compare MAE on the original data\n",
    "mae_original = mean_absolute_error(y_test, y_pred_original)\n",
    "print(f\"MAE on original data: {mae_original}\")\n",
    "\n",
    "# Compare MAE on the PCA-reduced data\n",
    "mae_pca = mean_absolute_error(y_test, y_pred_pca)\n",
    "print(f\"MAE on PCA-reduced data: {mae_pca}\")\n",
    "222\n",
    "# Compare the percentage of MAE relative to the median of the target variable\n",
    "median_value = y_test.median()\n",
    "comparison_original = round((mae_original / median_value) * 100, 1)\n",
    "comparison_pca = round((mae_pca / median_value) * 100, 1)\n",
    "\n",
    "print(f\"Original Dataset: Predicts target variable to within {comparison_original}% of its value.\")\n",
    "print(f\"PCA-Reduced Dataset: Predicts target variable to within {comparison_pca}% of its value.\")\n"
   ]
  },
  {
   "cell_type": "code",
   "execution_count": null,
   "id": "f199a809-71ca-4e73-9fc0-ff6992519009",
   "metadata": {},
   "outputs": [],
   "source": []
  },
  {
   "cell_type": "code",
   "execution_count": null,
   "id": "b2a8e65c-cc58-4f53-bbbf-468ee5823242",
   "metadata": {},
   "outputs": [],
   "source": []
  },
  {
   "cell_type": "code",
   "execution_count": null,
   "id": "2a026380-8e93-4db8-8090-9085e3cf5b5b",
   "metadata": {},
   "outputs": [],
   "source": []
  }
 ],
 "metadata": {
  "kernelspec": {
   "display_name": "Python 3 (ipykernel)",
   "language": "python",
   "name": "python3"
  },
  "language_info": {
   "codemirror_mode": {
    "name": "ipython",
    "version": 3
   },
   "file_extension": ".py",
   "mimetype": "text/x-python",
   "name": "python",
   "nbconvert_exporter": "python",
   "pygments_lexer": "ipython3",
   "version": "3.12.4"
  }
 },
 "nbformat": 4,
 "nbformat_minor": 5
}
